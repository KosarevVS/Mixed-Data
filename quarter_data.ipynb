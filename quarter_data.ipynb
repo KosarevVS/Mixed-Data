{
 "cells": [
  {
   "cell_type": "code",
   "execution_count": 1,
   "metadata": {},
   "outputs": [],
   "source": [
    "import pandas as pd\n",
    "import numpy as np\n",
    "import qgrid\n",
    "import matplotlib.pyplot as plt"
   ]
  },
  {
   "cell_type": "code",
   "execution_count": 14,
   "metadata": {
    "scrolled": true
   },
   "outputs": [
    {
     "data": {
      "text/plain": [
       "array(['AUS', 'AUT', 'BEL', 'CAN', 'CZE', 'DNK', 'FIN', 'FRA', 'DEU',\n",
       "       'GRC', 'HUN', 'ISL', 'IRL', 'ITA', 'JPN', 'KOR', 'LUX', 'MEX',\n",
       "       'NLD', 'NZL', 'NOR', 'POL', 'PRT', 'SVK', 'ESP', 'SWE', 'CHE',\n",
       "       'TUR', 'GBR', 'USA', 'ARG', 'BRA', 'CHL', 'COL', 'CRI', 'EST',\n",
       "       'IND', 'IDN', 'ISR', 'LVA', 'LTU', 'RUS', 'SAU', 'SVN', 'ZAF',\n",
       "       'EU28', 'OECD', 'OECDE', 'G-7', 'G-20', 'EA19', 'BGR', 'ROU'],\n",
       "      dtype=object)"
      ]
     },
     "execution_count": 14,
     "metadata": {},
     "output_type": "execute_result"
    }
   ],
   "source": [
    "gdp=pd.read_csv('GDPq.csv')\n",
    "# qgrid_widget=qgrid.show_grid(gdp,show_toolbar=True)\n",
    "# qgrid_widget\n",
    "gdp=gdp[(gdp.FREQUENCY=='Q')&(gdp.SUBJECT=='VOLIDX')]\n",
    "# gdp=qgrid_widget.get_changed_df()\n",
    "gdp.LOCATION.unique()"
   ]
  },
  {
   "cell_type": "code",
   "execution_count": 17,
   "metadata": {},
   "outputs": [],
   "source": [
    "m3=pd.read_csv('M3.csv')\n",
    "m3=m3[m3.FREQUENCY=='M']\n",
    "# qgrid_widget=qgrid.show_grid(m3,show_toolbar=True)\n",
    "# qgrid_widget\n",
    "# m3=qgrid_widget.get_changed_df()"
   ]
  },
  {
   "cell_type": "code",
   "execution_count": 18,
   "metadata": {},
   "outputs": [],
   "source": [
    "dates=pd.date_range(start='01.01.1960',end='01.01.2020',freq=\"M\")"
   ]
  },
  {
   "cell_type": "code",
   "execution_count": 19,
   "metadata": {},
   "outputs": [],
   "source": [
    "def dat(a):\n",
    "    if len(str(a.month))==1:\n",
    "        b=str(a.year)+'-0'+str(a.month)\n",
    "    else:\n",
    "        b=str(a.year)+'-'+str(a.month)\n",
    "    return b"
   ]
  },
  {
   "cell_type": "code",
   "execution_count": 20,
   "metadata": {},
   "outputs": [],
   "source": [
    "def contry_dat(country):\n",
    "    dicts={}\n",
    "    for date in dates:\n",
    "        try:\n",
    "    #         print(date, x.loc[dat(date)]['Value'])\n",
    "            dicts[date]=m3[m3.LOCATION==country].sort_values(by='TIME').set_index(\"TIME\").loc[dat(date)]['Value']\n",
    "        except:\n",
    "            pass\n",
    "    return pd.DataFrame.from_dict(dicts,orient='index')"
   ]
  },
  {
   "cell_type": "code",
   "execution_count": 21,
   "metadata": {},
   "outputs": [],
   "source": [
    "# 1962-11-30 --> 1962-Q1\n",
    "quadic=dict(zip(range(1,13), ['Q1','Q1','Q1','Q2','Q2','Q2','Q3','Q3','Q3','Q4','Q4','Q4']))\n",
    "date_re=lambda a: str(a.year)+'-'+quadic.get(a.month)\n",
    "\n",
    "def country_dat_2(country):\n",
    "    dicts={}\n",
    "    for date in dates:\n",
    "        try:\n",
    "    #         print(date, x.loc[dat(date)]['Value'])\n",
    "            dicts[date]=gdp[gdp.LOCATION==country].sort_values(by='TIME').set_index('TIME').loc[date_re(date)]['Value']\n",
    "        except:\n",
    "            pass\n",
    "    return pd.DataFrame.from_dict(dicts,orient='index')"
   ]
  },
  {
   "cell_type": "code",
   "execution_count": 22,
   "metadata": {},
   "outputs": [
    {
     "data": {
      "text/html": [
       "<div>\n",
       "<style scoped>\n",
       "    .dataframe tbody tr th:only-of-type {\n",
       "        vertical-align: middle;\n",
       "    }\n",
       "\n",
       "    .dataframe tbody tr th {\n",
       "        vertical-align: top;\n",
       "    }\n",
       "\n",
       "    .dataframe thead th {\n",
       "        text-align: right;\n",
       "    }\n",
       "</style>\n",
       "<table border=\"1\" class=\"dataframe\">\n",
       "  <thead>\n",
       "    <tr style=\"text-align: right;\">\n",
       "      <th></th>\n",
       "      <th>AUS_m3</th>\n",
       "      <th>AUS_gdp</th>\n",
       "    </tr>\n",
       "  </thead>\n",
       "  <tbody>\n",
       "    <tr>\n",
       "      <th>1960-01-31</th>\n",
       "      <td>NaN</td>\n",
       "      <td>17.105931</td>\n",
       "    </tr>\n",
       "    <tr>\n",
       "      <th>1960-02-29</th>\n",
       "      <td>0.394606</td>\n",
       "      <td>17.105931</td>\n",
       "    </tr>\n",
       "    <tr>\n",
       "      <th>1960-03-31</th>\n",
       "      <td>0.397772</td>\n",
       "      <td>17.105931</td>\n",
       "    </tr>\n",
       "    <tr>\n",
       "      <th>1960-04-30</th>\n",
       "      <td>0.400349</td>\n",
       "      <td>17.580023</td>\n",
       "    </tr>\n",
       "    <tr>\n",
       "      <th>1960-05-31</th>\n",
       "      <td>0.404804</td>\n",
       "      <td>17.580023</td>\n",
       "    </tr>\n",
       "  </tbody>\n",
       "</table>\n",
       "</div>"
      ],
      "text/plain": [
       "              AUS_m3    AUS_gdp\n",
       "1960-01-31       NaN  17.105931\n",
       "1960-02-29  0.394606  17.105931\n",
       "1960-03-31  0.397772  17.105931\n",
       "1960-04-30  0.400349  17.580023\n",
       "1960-05-31  0.404804  17.580023"
      ]
     },
     "execution_count": 22,
     "metadata": {},
     "output_type": "execute_result"
    }
   ],
   "source": [
    "countries=set(gdp.LOCATION.unique())&set(m3.LOCATION.unique())\n",
    "\n",
    "def all_d(cname):\n",
    "    df=pd.concat([contry_dat(cname),country_dat_2(cname)],axis=1)\n",
    "    df.columns=[cname+'_m3',cname+'_gdp']\n",
    "#     df['cname']=[cname]*len(df)\n",
    "    return df\n",
    "all_d('AUS').head()"
   ]
  },
  {
   "cell_type": "code",
   "execution_count": 23,
   "metadata": {},
   "outputs": [],
   "source": [
    "big_t=[]\n",
    "for country in countries:\n",
    "    big_t.append(all_d(country))"
   ]
  },
  {
   "cell_type": "code",
   "execution_count": 15,
   "metadata": {},
   "outputs": [],
   "source": [
    "dd=pd.concat(big_t,axis=1)"
   ]
  },
  {
   "cell_type": "code",
   "execution_count": 16,
   "metadata": {},
   "outputs": [
    {
     "name": "stdout",
     "output_type": "stream",
     "text": [
      "CZE 285\n",
      "SWE 707\n",
      "RUS 192\n",
      "GBR 393\n",
      "CAN 594\n",
      "OECD 474\n",
      "HUN 297\n",
      "BRA 276\n",
      "JPN 309\n",
      "DNK 288\n",
      "EA19 297\n",
      "CHL 192\n",
      "IND 93\n",
      "NZL 372\n",
      "CHE 468\n",
      "MEX 312\n",
      "TUR 252\n",
      "AUS 713\n",
      "NOR 501\n",
      "COL 177\n",
      "KOR 236\n",
      "POL 288\n",
      "USA 717\n",
      "ZAF 651\n",
      "IDN 347\n",
      "OECDE 288\n",
      "ISR 297\n",
      "CRI 221\n",
      "ISL 270\n"
     ]
    }
   ],
   "source": [
    "for country in countries:\n",
    "    print(country,len(dd[[country+'_m3',country+'_gdp']].dropna()))"
   ]
  },
  {
   "cell_type": "code",
   "execution_count": 17,
   "metadata": {},
   "outputs": [],
   "source": [
    "import statsmodels.api as sm\n",
    "from statsmodels.tsa.seasonal import seasonal_decompose\n",
    "def preproc(X):\n",
    "    cycle, trend = sm.tsa.filters.hpfilter(X, 160000000)\n",
    "    result = seasonal_decompose(X, model='additive', freq=12)\n",
    "    ses=result.seasonal\n",
    "    X=X-trend-ses\n",
    "    X=(X-X.mean())/X.std()#стандартизация \n",
    "    # X=(X-X.min())/(X.max()-X.min())#нормирование\n",
    "    return X"
   ]
  },
  {
   "cell_type": "code",
   "execution_count": 18,
   "metadata": {},
   "outputs": [
    {
     "name": "stdout",
     "output_type": "stream",
     "text": [
      "717\n",
      "1960-01-31    0.867386\n",
      "1960-02-29    0.858216\n",
      "1960-03-31    0.852362\n",
      "1960-04-30    0.840157\n",
      "1960-05-31    0.833902\n",
      "1960-06-30    0.828334\n",
      "1960-07-31    0.818267\n",
      "1960-08-31    0.807032\n",
      "1960-09-30    0.801235\n",
      "1960-10-31    0.792567\n",
      "Freq: M, Name: USA_m3, dtype: float64\n",
      "2018-12-31    3.031501\n",
      "2019-01-31    3.104172\n",
      "2019-02-28    3.070635\n",
      "2019-03-31    3.071578\n",
      "2019-04-30    3.088266\n",
      "2019-05-31    3.189912\n",
      "2019-06-30    3.375548\n",
      "2019-07-31    3.473747\n",
      "2019-08-31    3.530285\n",
      "2019-09-30    3.643904\n",
      "Freq: M, Name: USA_m3, dtype: float64\n",
      "1960-03-31    1.152069\n",
      "1960-06-30    0.930903\n",
      "1960-09-30    0.833256\n",
      "1960-12-31    0.583907\n",
      "1961-03-31    0.521447\n",
      "1961-06-30    0.515762\n",
      "1961-09-30    0.558742\n",
      "1961-12-31    0.629079\n",
      "1962-03-31    0.683390\n",
      "1962-06-30    0.607891\n",
      "Freq: Q-DEC, Name: USA_gdp, dtype: float64\n",
      "2017-06-30   -0.060432\n",
      "2017-09-30    0.118765\n",
      "2017-12-31    0.366038\n",
      "2018-03-31    0.484049\n",
      "2018-06-30    0.690383\n",
      "2018-09-30    0.846108\n",
      "2018-12-31    0.773880\n",
      "2019-03-31    0.974461\n",
      "2019-06-30    0.987752\n",
      "2019-09-30    1.013695\n",
      "Freq: Q-DEC, Name: USA_gdp, dtype: float64\n"
     ]
    },
    {
     "name": "stderr",
     "output_type": "stream",
     "text": [
      "/Library/Frameworks/Python.framework/Versions/3.7/lib/python3.7/site-packages/scipy/signal/signaltools.py:491: FutureWarning: Using a non-tuple sequence for multidimensional indexing is deprecated; use `arr[tuple(seq)]` instead of `arr[seq]`. In the future this will be interpreted as an array index, `arr[np.array(seq)]`, which will result either in an error or a different result.\n",
      "  return x[reverse].conj()\n"
     ]
    }
   ],
   "source": [
    "country='USA'\n",
    "month_and_quart=dd[[country+'_m3',country+'_gdp']].dropna()\n",
    "month_and_quart=preproc(month_and_quart)\n",
    "print( len(month_and_quart))\n",
    "#квартальные данные без повторений\n",
    "month=month_and_quart[country+'_m3']\n",
    "quart=month_and_quart[country+'_gdp'].resample('Q').mean()\n",
    "\n",
    "# month = ((1. + (np.log(month) - np.log(month.shift(1)))) ** 12) - 1.\n",
    "# quart = ((1. + (np.log(quart) - np.log(quart.shift(3)))) ** 4) - 1.\n",
    "\n",
    "# month = month[12:]\n",
    "# quart = quart[4:]\n",
    "\n",
    "print(month.head(10))\n",
    "print(month.tail(10))\n",
    "print(quart.head(10))\n",
    "print(quart.tail(10))"
   ]
  },
  {
   "cell_type": "code",
   "execution_count": 19,
   "metadata": {},
   "outputs": [
    {
     "data": {
      "text/plain": [
       "<matplotlib.axes._subplots.AxesSubplot at 0x11f6bcb00>"
      ]
     },
     "execution_count": 19,
     "metadata": {},
     "output_type": "execute_result"
    },
    {
     "data": {
      "image/png": "[encoded data removed]",
      "text/plain": [
       "<Figure size 1080x288 with 1 Axes>"
      ]
     },
     "metadata": {
      "needs_background": "light"
     },
     "output_type": "display_data"
    }
   ],
   "source": [
    "for_pp=pd.concat([month,quart],axis=1)\n",
    "for_pp[[country+'_m3',country+'_gdp']].plot(figsize=(15,4), style=['-','o'])#.get_figure()\n",
    "# gdp_yoy = ((1. + (np.log(quart) - np.log(quart.shift(3)))) ** 4) - 1.\n",
    "# emp_yoy = ((1. + (np.log(month) - np.log(month.shift(1)))) ** 12) - 1.\n",
    "# df = pd.concat([gdp_yoy, emp_yoy], axis=1)\n",
    "# df.columns = [country+'_gdp',country+'_m3']\n",
    "# fig=df[[country+'_gdp',country+'_m3']].plot(figsize=(15,4), style=['o','-'])\n",
    "# fig.savefig(\"myplot.png\")"
   ]
  },
  {
   "cell_type": "code",
   "execution_count": 20,
   "metadata": {},
   "outputs": [
    {
     "name": "stdout",
     "output_type": "stream",
     "text": [
      "(705, 12, 1)\n"
     ]
    },
    {
     "data": {
      "text/plain": [
       "(705,)"
      ]
     },
     "execution_count": 20,
     "metadata": {},
     "output_type": "execute_result"
    }
   ],
   "source": [
    "# test_m3 (None,12,1)\n",
    "# test_gdp (None,4,1)\n",
    "# def \n",
    "month_sh=[month[i:i+12] for i in range(0,len(month)-11)]#формируем окна в 12 месяцев\n",
    "X_m3=np.array(month_sh).reshape((len(month_sh),12,1))[:-1]#отбрасываем окно в последние 12 месяцев, потому что для него\n",
    "# нет прогнозной точки\n",
    "y_m3=np.array([month[i+12] for i in range(0,len(month)-12)])#формируем то, что будем предсказывать оканми - следующая дата окна.\n",
    "# здесь хоть и i+12, но берется 13 точка, то есть след прогнозная\n",
    "print(X_m3.shape)\n",
    "y_m3.shape"
   ]
  },
  {
   "cell_type": "code",
   "execution_count": 21,
   "metadata": {},
   "outputs": [],
   "source": [
    "from datetime import date, timedelta, datetime\n",
    "from dateutil.relativedelta import relativedelta\n",
    "\n",
    "def get_first_day(dt, d_years=0, d_months=0):\n",
    "    y, m = dt.year + d_years, dt.month + d_months\n",
    "    a, m = divmod(m-1, 12)\n",
    "    return date(y+a, m+1, 1)\n",
    "\n",
    "def get_last_day(dt):\n",
    "    return get_first_day(dt,0,1)+timedelta(-1)\n",
    "\n",
    "def get_lag(date,month_lag):\n",
    "    last_d=date+-timedelta(1)#возвращаем последнюю дату данных\n",
    "    with_lag=last_d-relativedelta(months=month_lag) #отматываем на два квартала назад - отнимаем 5 месяце\n",
    "    return get_last_day(with_lag)\n",
    "\n",
    "f_m_q=[1,4,7,10] #1-й месяц квартала: \n",
    "s_m_q=[2,5,8,11] #2-й месяц квартала:\n",
    "t_m_q=[3,6,9,12] #3-й месяц квартала:\n",
    "\n",
    "#логика лаггирования - преполагаем, что как у росстата с ввп лаг публикации 2 месяца, то есть публикуется квартальное значение \n",
    "# индикактора на 3 месяц следующего квартала. Поэтому нужно так: для прогноза 1 и 2 - го мес кваратала t нужно\n",
    "# предыдущей свертке ставить в соответствие квартал t-2, остальным - как положено, а 3 месяцу - t-1. \n",
    "# Сейчас для упрощения 3 месяцу тоже ставится t-2. Из предположения, что мы прогнозируем до 19 числа 3 месяца, то есь до публикации\n",
    "# квартального значения за предыдцщий период.\n",
    "\n",
    "def lagged_dates(quart, b): #b - последняя точка с имеющимися данными\n",
    "    a=b+timedelta(1)# a - это прогнозируемый месяц\n",
    "    if b.month in f_m_q:#если данные заканчиваются на  1,4,7,10 месяцем, то лаг будет 4\n",
    "        zx=pd.concat([quart.loc[get_lag(a,11):get_lag(a,4)],# 7 - это минус два квартала\n",
    "                          quart.loc[get_lag(a,5):get_lag(a,4)]],axis=0)#дубл\n",
    "    else:\n",
    "        zx=pd.concat([quart.loc[get_lag(a,12):get_lag(a,5)],# 7 - это минус два квартала\n",
    "                          quart.loc[get_lag(a,6):get_lag(a,5)]],axis=0)#дублируем значение 2-х лагового квартала \n",
    "    return zx"
   ]
  },
  {
   "cell_type": "code",
   "execution_count": 22,
   "metadata": {},
   "outputs": [
    {
     "name": "stdout",
     "output_type": "stream",
     "text": [
      "итого должна быть такая размерность: (704, 4, 1)\n"
     ]
    }
   ],
   "source": [
    "quart_sh=[]\n",
    "for i in range(0,len(month_sh[:-1])):\n",
    "    b=month_sh[:-1][i].index[-1]# это точка с последними имеющимися данными\n",
    "    quart_sh.append(lagged_dates(quart,b).values)\n",
    "    \n",
    "quart_sh_ar=np.array(quart_sh[1:])#отбрасываем первый вектор, потому что для него не хватает лага квартала\n",
    "X_gdp=quart_sh_ar.reshape((len(quart_sh_ar),4,1))\n",
    "print('итого должна быть такая размерность: {}'.format(X_gdp.shape))"
   ]
  },
  {
   "cell_type": "markdown",
   "metadata": {},
   "source": [
    "### Строим нейронку"
   ]
  },
  {
   "cell_type": "code",
   "execution_count": 23,
   "metadata": {},
   "outputs": [
    {
     "name": "stderr",
     "output_type": "stream",
     "text": [
      "Using TensorFlow backend.\n"
     ]
    }
   ],
   "source": [
    "from numpy import hstack\n",
    "from keras.models import Model, Sequential\n",
    "from keras.layers.core import Dense, Dropout, Activation, Flatten\n",
    "from keras.layers import Input, Conv1D, Dense, Activation, Dropout, Lambda, Multiply, Add, Concatenate\n",
    "from keras.layers import Flatten\n",
    "# from keras.layers.convolutional import Conv1D\n",
    "# from keras.layers.convolutional import MaxPooling1D\n",
    "from keras.layers.merge import concatenate\n",
    "from keras import regularizers\n",
    "from keras.optimizers import RMSprop, Adam, SGD, Nadam\n",
    "from keras.callbacks import ModelCheckpoint, ReduceLROnPlateau, CSVLogger, EarlyStopping\n",
    "\n",
    "from keras.utils import plot_model\n",
    "import pydot\n",
    "from IPython.display import SVG\n",
    "from keras.utils.vis_utils import model_to_dot\n"
   ]
  },
  {
   "cell_type": "code",
   "execution_count": 24,
   "metadata": {},
   "outputs": [],
   "source": [
    "# np.random.seed(42)#для воспроизводимости результатов\n",
    "\n",
    "# X_cnn_train=np.random.random_sample((50000,12, 1))\n",
    "# X_cnn_test=np.random.random_sample((1000,12, 1))\n",
    "\n",
    "# invest_train=np.random.random_sample((50000,4,1))\n",
    "# invest_test=np.random.random_sample((1000,4,1))\n",
    "\n",
    "# y_cnn_train=np.random.random_sample(50000)\n",
    "# Y_cnn_test=np.random.random_sample(1000)\n",
    "\n",
    "n=650\n",
    "X_cnn_train=X_m3[1:][:n]\n",
    "X_cnn_test=X_m3[1:][n:]\n",
    "\n",
    "invest_train=X_gdp[:n]\n",
    "invest_test=X_gdp[n:]\n",
    "\n",
    "y_cnn_train=y_m3[1:][:n]\n",
    "Y_cnn_test=y_m3[1:][n:]\n",
    "\n",
    "n_steps=12"
   ]
  },
  {
   "cell_type": "code",
   "execution_count": 25,
   "metadata": {},
   "outputs": [
    {
     "name": "stdout",
     "output_type": "stream",
     "text": [
      "WARNING:tensorflow:From /Library/Frameworks/Python.framework/Versions/3.7/lib/python3.7/site-packages/tensorflow/python/framework/op_def_library.py:263: colocate_with (from tensorflow.python.framework.ops) is deprecated and will be removed in a future version.\n",
      "Instructions for updating:\n",
      "Colocations handled automatically by placer.\n",
      "WARNING:tensorflow:From /Library/Frameworks/Python.framework/Versions/3.7/lib/python3.7/site-packages/keras/backend/tensorflow_backend.py:2990: calling dropout (from tensorflow.python.ops.nn_ops) with keep_prob is deprecated and will be removed in a future version.\n",
      "Instructions for updating:\n",
      "Please use `rate` instead of `keep_prob`. Rate should be set to `rate = 1 - keep_prob`.\n",
      "WARNING:tensorflow:From /Library/Frameworks/Python.framework/Versions/3.7/lib/python3.7/site-packages/keras/backend/tensorflow_backend.py:1255: calling reduce_prod_v1 (from tensorflow.python.ops.math_ops) with keep_dims is deprecated and will be removed in a future version.\n",
      "Instructions for updating:\n",
      "keep_dims is deprecated, use keepdims instead\n",
      "__________________________________________________________________________________________________\n",
      "Layer (type)                    Output Shape         Param #     Connected to                     \n",
      "==================================================================================================\n",
      "monthly (InputLayer)            (None, 12, 1)        0                                            \n",
      "__________________________________________________________________________________________________\n",
      "conv1d_1 (Conv1D)               (None, 4, 25)        100         monthly[0][0]                    \n",
      "__________________________________________________________________________________________________\n",
      "dropout_1 (Dropout)             (None, 4, 25)        0           conv1d_1[0][0]                   \n",
      "__________________________________________________________________________________________________\n",
      "quartality (InputLayer)         (None, 4, 1)         0                                            \n",
      "__________________________________________________________________________________________________\n",
      "concatenate_1 (Concatenate)     (None, 4, 26)        0           dropout_1[0][0]                  \n",
      "                                                                 quartality[0][0]                 \n",
      "__________________________________________________________________________________________________\n",
      "conv1d_2 (Conv1D)               (None, 4, 1)         27          concatenate_1[0][0]              \n",
      "__________________________________________________________________________________________________\n",
      "flatten_1 (Flatten)             (None, 4)            0           conv1d_2[0][0]                   \n",
      "__________________________________________________________________________________________________\n",
      "dense_1 (Dense)                 (None, 1)            5           flatten_1[0][0]                  \n",
      "==================================================================================================\n",
      "Total params: 132\n",
      "Trainable params: 132\n",
      "Non-trainable params: 0\n",
      "__________________________________________________________________________________________________\n"
     ]
    },
    {
     "data": {
      "image/svg+xml": [
       "<svg height=\"539pt\" viewBox=\"0.00 0.00 580.56 539.00\" width=\"581pt\" xmlns=\"http://www.w3.org/2000/svg\" xmlns:xlink=\"http://www.w3.org/1999/xlink\">\n",
       "<g class=\"graph\" id=\"graph0\" transform=\"scale(1 1) rotate(0) translate(4 535)\">\n",
       "<title>G</title>\n",
       "<polygon fill=\"#ffffff\" points=\"-4,4 -4,-535 576.5591,-535 576.5591,4 -4,4\" stroke=\"transparent\"/>\n",
       "<!-- 5141320648 -->\n",
       "<g class=\"node\" id=\"node1\">\n",
       "<title>5141320648</title>\n",
       "<polygon fill=\"none\" points=\"0,-486.5 0,-530.5 278.5693,-530.5 278.5693,-486.5 0,-486.5\" stroke=\"#000000\"/>\n",
       "<text fill=\"#000000\" font-family=\"Times,serif\" font-size=\"14.00\" text-anchor=\"middle\" x=\"66.126\" y=\"-504.3\">monthly: InputLayer</text>\n",
       "<polyline fill=\"none\" points=\"132.252,-486.5 132.252,-530.5 \" stroke=\"#000000\"/>\n",
       "<text fill=\"#000000\" font-family=\"Times,serif\" font-size=\"14.00\" text-anchor=\"middle\" x=\"160.0864\" y=\"-515.3\">input:</text>\n",
       "<polyline fill=\"none\" points=\"132.252,-508.5 187.9209,-508.5 \" stroke=\"#000000\"/>\n",
       "<text fill=\"#000000\" font-family=\"Times,serif\" font-size=\"14.00\" text-anchor=\"middle\" x=\"160.0864\" y=\"-493.3\">output:</text>\n",
       "<polyline fill=\"none\" points=\"187.9209,-486.5 187.9209,-530.5 \" stroke=\"#000000\"/>\n",
       "<text fill=\"#000000\" font-family=\"Times,serif\" font-size=\"14.00\" text-anchor=\"middle\" x=\"233.2451\" y=\"-515.3\">(None, 12, 1)</text>\n",
       "<polyline fill=\"none\" points=\"187.9209,-508.5 278.5693,-508.5 \" stroke=\"#000000\"/>\n",
       "<text fill=\"#000000\" font-family=\"Times,serif\" font-size=\"14.00\" text-anchor=\"middle\" x=\"233.2451\" y=\"-493.3\">(None, 12, 1)</text>\n",
       "</g>\n",
       "<!-- 5141320760 -->\n",
       "<g class=\"node\" id=\"node2\">\n",
       "<title>5141320760</title>\n",
       "<polygon fill=\"none\" points=\"3.1001,-405.5 3.1001,-449.5 275.4692,-449.5 275.4692,-405.5 3.1001,-405.5\" stroke=\"#000000\"/>\n",
       "<text fill=\"#000000\" font-family=\"Times,serif\" font-size=\"14.00\" text-anchor=\"middle\" x=\"66.126\" y=\"-423.3\">conv1d_1: Conv1D</text>\n",
       "<polyline fill=\"none\" points=\"129.1519,-405.5 129.1519,-449.5 \" stroke=\"#000000\"/>\n",
       "<text fill=\"#000000\" font-family=\"Times,serif\" font-size=\"14.00\" text-anchor=\"middle\" x=\"156.9863\" y=\"-434.3\">input:</text>\n",
       "<polyline fill=\"none\" points=\"129.1519,-427.5 184.8208,-427.5 \" stroke=\"#000000\"/>\n",
       "<text fill=\"#000000\" font-family=\"Times,serif\" font-size=\"14.00\" text-anchor=\"middle\" x=\"156.9863\" y=\"-412.3\">output:</text>\n",
       "<polyline fill=\"none\" points=\"184.8208,-405.5 184.8208,-449.5 \" stroke=\"#000000\"/>\n",
       "<text fill=\"#000000\" font-family=\"Times,serif\" font-size=\"14.00\" text-anchor=\"middle\" x=\"230.145\" y=\"-434.3\">(None, 12, 1)</text>\n",
       "<polyline fill=\"none\" points=\"184.8208,-427.5 275.4692,-427.5 \" stroke=\"#000000\"/>\n",
       "<text fill=\"#000000\" font-family=\"Times,serif\" font-size=\"14.00\" text-anchor=\"middle\" x=\"230.145\" y=\"-412.3\">(None, 4, 25)</text>\n",
       "</g>\n",
       "<!-- 5141320648&#45;&gt;5141320760 -->\n",
       "<g class=\"edge\" id=\"edge1\">\n",
       "<title>5141320648-&gt;5141320760</title>\n",
       "<path d=\"M139.2847,-486.3664C139.2847,-478.1516 139.2847,-468.6579 139.2847,-459.7252\" fill=\"none\" stroke=\"#000000\"/>\n",
       "<polygon fill=\"#000000\" points=\"142.7848,-459.6068 139.2847,-449.6068 135.7848,-459.6069 142.7848,-459.6068\" stroke=\"#000000\"/>\n",
       "</g>\n",
       "<!-- 5141322104 -->\n",
       "<g class=\"node\" id=\"node3\">\n",
       "<title>5141322104</title>\n",
       "<polygon fill=\"none\" points=\"2.3242,-324.5 2.3242,-368.5 276.2451,-368.5 276.2451,-324.5 2.3242,-324.5\" stroke=\"#000000\"/>\n",
       "<text fill=\"#000000\" font-family=\"Times,serif\" font-size=\"14.00\" text-anchor=\"middle\" x=\"66.126\" y=\"-342.3\">dropout_1: Dropout</text>\n",
       "<polyline fill=\"none\" points=\"129.9277,-324.5 129.9277,-368.5 \" stroke=\"#000000\"/>\n",
       "<text fill=\"#000000\" font-family=\"Times,serif\" font-size=\"14.00\" text-anchor=\"middle\" x=\"157.7622\" y=\"-353.3\">input:</text>\n",
       "<polyline fill=\"none\" points=\"129.9277,-346.5 185.5967,-346.5 \" stroke=\"#000000\"/>\n",
       "<text fill=\"#000000\" font-family=\"Times,serif\" font-size=\"14.00\" text-anchor=\"middle\" x=\"157.7622\" y=\"-331.3\">output:</text>\n",
       "<polyline fill=\"none\" points=\"185.5967,-324.5 185.5967,-368.5 \" stroke=\"#000000\"/>\n",
       "<text fill=\"#000000\" font-family=\"Times,serif\" font-size=\"14.00\" text-anchor=\"middle\" x=\"230.9209\" y=\"-353.3\">(None, 4, 25)</text>\n",
       "<polyline fill=\"none\" points=\"185.5967,-346.5 276.2451,-346.5 \" stroke=\"#000000\"/>\n",
       "<text fill=\"#000000\" font-family=\"Times,serif\" font-size=\"14.00\" text-anchor=\"middle\" x=\"230.9209\" y=\"-331.3\">(None, 4, 25)</text>\n",
       "</g>\n",
       "<!-- 5141320760&#45;&gt;5141322104 -->\n",
       "<g class=\"edge\" id=\"edge2\">\n",
       "<title>5141320760-&gt;5141322104</title>\n",
       "<path d=\"M139.2847,-405.3664C139.2847,-397.1516 139.2847,-387.6579 139.2847,-378.7252\" fill=\"none\" stroke=\"#000000\"/>\n",
       "<polygon fill=\"#000000\" points=\"142.7848,-378.6068 139.2847,-368.6068 135.7848,-378.6069 142.7848,-378.6068\" stroke=\"#000000\"/>\n",
       "</g>\n",
       "<!-- 5141321936 -->\n",
       "<g class=\"node\" id=\"node5\">\n",
       "<title>5141321936</title>\n",
       "<polygon fill=\"none\" points=\"84.8203,-243.5 84.8203,-287.5 487.749,-287.5 487.749,-243.5 84.8203,-243.5\" stroke=\"#000000\"/>\n",
       "<text fill=\"#000000\" font-family=\"Times,serif\" font-size=\"14.00\" text-anchor=\"middle\" x=\"171.1396\" y=\"-261.3\">concatenate_1: Concatenate</text>\n",
       "<polyline fill=\"none\" points=\"257.459,-243.5 257.459,-287.5 \" stroke=\"#000000\"/>\n",
       "<text fill=\"#000000\" font-family=\"Times,serif\" font-size=\"14.00\" text-anchor=\"middle\" x=\"285.2935\" y=\"-272.3\">input:</text>\n",
       "<polyline fill=\"none\" points=\"257.459,-265.5 313.1279,-265.5 \" stroke=\"#000000\"/>\n",
       "<text fill=\"#000000\" font-family=\"Times,serif\" font-size=\"14.00\" text-anchor=\"middle\" x=\"285.2935\" y=\"-250.3\">output:</text>\n",
       "<polyline fill=\"none\" points=\"313.1279,-243.5 313.1279,-287.5 \" stroke=\"#000000\"/>\n",
       "<text fill=\"#000000\" font-family=\"Times,serif\" font-size=\"14.00\" text-anchor=\"middle\" x=\"400.4385\" y=\"-272.3\">[(None, 4, 25), (None, 4, 1)]</text>\n",
       "<polyline fill=\"none\" points=\"313.1279,-265.5 487.749,-265.5 \" stroke=\"#000000\"/>\n",
       "<text fill=\"#000000\" font-family=\"Times,serif\" font-size=\"14.00\" text-anchor=\"middle\" x=\"399.9521\" y=\"-250.3\">(None, 4, 26)</text>\n",
       "</g>\n",
       "<!-- 5141322104&#45;&gt;5141321936 -->\n",
       "<g class=\"edge\" id=\"edge3\">\n",
       "<title>5141322104-&gt;5141321936</title>\n",
       "<path d=\"M179.4531,-324.3664C197.2781,-314.5444 218.4215,-302.894 237.1753,-292.5602\" fill=\"none\" stroke=\"#000000\"/>\n",
       "<polygon fill=\"#000000\" points=\"239.0956,-295.4984 246.1648,-287.6068 235.7173,-289.3675 239.0956,-295.4984\" stroke=\"#000000\"/>\n",
       "</g>\n",
       "<!-- 5141322552 -->\n",
       "<g class=\"node\" id=\"node4\">\n",
       "<title>5141322552</title>\n",
       "<polygon fill=\"none\" points=\"294.0103,-324.5 294.0103,-368.5 572.5591,-368.5 572.5591,-324.5 294.0103,-324.5\" stroke=\"#000000\"/>\n",
       "<text fill=\"#000000\" font-family=\"Times,serif\" font-size=\"14.00\" text-anchor=\"middle\" x=\"363.626\" y=\"-342.3\">quartality: InputLayer</text>\n",
       "<polyline fill=\"none\" points=\"433.2417,-324.5 433.2417,-368.5 \" stroke=\"#000000\"/>\n",
       "<text fill=\"#000000\" font-family=\"Times,serif\" font-size=\"14.00\" text-anchor=\"middle\" x=\"461.0762\" y=\"-353.3\">input:</text>\n",
       "<polyline fill=\"none\" points=\"433.2417,-346.5 488.9106,-346.5 \" stroke=\"#000000\"/>\n",
       "<text fill=\"#000000\" font-family=\"Times,serif\" font-size=\"14.00\" text-anchor=\"middle\" x=\"461.0762\" y=\"-331.3\">output:</text>\n",
       "<polyline fill=\"none\" points=\"488.9106,-324.5 488.9106,-368.5 \" stroke=\"#000000\"/>\n",
       "<text fill=\"#000000\" font-family=\"Times,serif\" font-size=\"14.00\" text-anchor=\"middle\" x=\"530.7349\" y=\"-353.3\">(None, 4, 1)</text>\n",
       "<polyline fill=\"none\" points=\"488.9106,-346.5 572.5591,-346.5 \" stroke=\"#000000\"/>\n",
       "<text fill=\"#000000\" font-family=\"Times,serif\" font-size=\"14.00\" text-anchor=\"middle\" x=\"530.7349\" y=\"-331.3\">(None, 4, 1)</text>\n",
       "</g>\n",
       "<!-- 5141322552&#45;&gt;5141321936 -->\n",
       "<g class=\"edge\" id=\"edge4\">\n",
       "<title>5141322552-&gt;5141321936</title>\n",
       "<path d=\"M393.1163,-324.3664C375.2912,-314.5444 354.1479,-302.894 335.394,-292.5602\" fill=\"none\" stroke=\"#000000\"/>\n",
       "<polygon fill=\"#000000\" points=\"336.852,-289.3675 326.4045,-287.6068 333.4738,-295.4984 336.852,-289.3675\" stroke=\"#000000\"/>\n",
       "</g>\n",
       "<!-- 5141454576 -->\n",
       "<g class=\"node\" id=\"node6\">\n",
       "<title>5141454576</title>\n",
       "<polygon fill=\"none\" points=\"150.1001,-162.5 150.1001,-206.5 422.4692,-206.5 422.4692,-162.5 150.1001,-162.5\" stroke=\"#000000\"/>\n",
       "<text fill=\"#000000\" font-family=\"Times,serif\" font-size=\"14.00\" text-anchor=\"middle\" x=\"213.126\" y=\"-180.3\">conv1d_2: Conv1D</text>\n",
       "<polyline fill=\"none\" points=\"276.1519,-162.5 276.1519,-206.5 \" stroke=\"#000000\"/>\n",
       "<text fill=\"#000000\" font-family=\"Times,serif\" font-size=\"14.00\" text-anchor=\"middle\" x=\"303.9863\" y=\"-191.3\">input:</text>\n",
       "<polyline fill=\"none\" points=\"276.1519,-184.5 331.8208,-184.5 \" stroke=\"#000000\"/>\n",
       "<text fill=\"#000000\" font-family=\"Times,serif\" font-size=\"14.00\" text-anchor=\"middle\" x=\"303.9863\" y=\"-169.3\">output:</text>\n",
       "<polyline fill=\"none\" points=\"331.8208,-162.5 331.8208,-206.5 \" stroke=\"#000000\"/>\n",
       "<text fill=\"#000000\" font-family=\"Times,serif\" font-size=\"14.00\" text-anchor=\"middle\" x=\"377.145\" y=\"-191.3\">(None, 4, 26)</text>\n",
       "<polyline fill=\"none\" points=\"331.8208,-184.5 422.4692,-184.5 \" stroke=\"#000000\"/>\n",
       "<text fill=\"#000000\" font-family=\"Times,serif\" font-size=\"14.00\" text-anchor=\"middle\" x=\"377.145\" y=\"-169.3\">(None, 4, 1)</text>\n",
       "</g>\n",
       "<!-- 5141321936&#45;&gt;5141454576 -->\n",
       "<g class=\"edge\" id=\"edge5\">\n",
       "<title>5141321936-&gt;5141454576</title>\n",
       "<path d=\"M286.2847,-243.3664C286.2847,-235.1516 286.2847,-225.6579 286.2847,-216.7252\" fill=\"none\" stroke=\"#000000\"/>\n",
       "<polygon fill=\"#000000\" points=\"289.7848,-216.6068 286.2847,-206.6068 282.7848,-216.6069 289.7848,-216.6068\" stroke=\"#000000\"/>\n",
       "</g>\n",
       "<!-- 5141453848 -->\n",
       "<g class=\"node\" id=\"node7\">\n",
       "<title>5141453848</title>\n",
       "<polygon fill=\"none\" points=\"160.9932,-81.5 160.9932,-125.5 411.5762,-125.5 411.5762,-81.5 160.9932,-81.5\" stroke=\"#000000\"/>\n",
       "<text fill=\"#000000\" font-family=\"Times,serif\" font-size=\"14.00\" text-anchor=\"middle\" x=\"216.626\" y=\"-99.3\">flatten_1: Flatten</text>\n",
       "<polyline fill=\"none\" points=\"272.2588,-81.5 272.2588,-125.5 \" stroke=\"#000000\"/>\n",
       "<text fill=\"#000000\" font-family=\"Times,serif\" font-size=\"14.00\" text-anchor=\"middle\" x=\"300.0933\" y=\"-110.3\">input:</text>\n",
       "<polyline fill=\"none\" points=\"272.2588,-103.5 327.9277,-103.5 \" stroke=\"#000000\"/>\n",
       "<text fill=\"#000000\" font-family=\"Times,serif\" font-size=\"14.00\" text-anchor=\"middle\" x=\"300.0933\" y=\"-88.3\">output:</text>\n",
       "<polyline fill=\"none\" points=\"327.9277,-81.5 327.9277,-125.5 \" stroke=\"#000000\"/>\n",
       "<text fill=\"#000000\" font-family=\"Times,serif\" font-size=\"14.00\" text-anchor=\"middle\" x=\"369.752\" y=\"-110.3\">(None, 4, 1)</text>\n",
       "<polyline fill=\"none\" points=\"327.9277,-103.5 411.5762,-103.5 \" stroke=\"#000000\"/>\n",
       "<text fill=\"#000000\" font-family=\"Times,serif\" font-size=\"14.00\" text-anchor=\"middle\" x=\"369.752\" y=\"-88.3\">(None, 4)</text>\n",
       "</g>\n",
       "<!-- 5141454576&#45;&gt;5141453848 -->\n",
       "<g class=\"edge\" id=\"edge6\">\n",
       "<title>5141454576-&gt;5141453848</title>\n",
       "<path d=\"M286.2847,-162.3664C286.2847,-154.1516 286.2847,-144.6579 286.2847,-135.7252\" fill=\"none\" stroke=\"#000000\"/>\n",
       "<polygon fill=\"#000000\" points=\"289.7848,-135.6068 286.2847,-125.6068 282.7848,-135.6069 289.7848,-135.6068\" stroke=\"#000000\"/>\n",
       "</g>\n",
       "<!-- 5141453232 -->\n",
       "<g class=\"node\" id=\"node8\">\n",
       "<title>5141453232</title>\n",
       "<polygon fill=\"none\" points=\"171.5,-.5 171.5,-44.5 401.0693,-44.5 401.0693,-.5 171.5,-.5\" stroke=\"#000000\"/>\n",
       "<text fill=\"#000000\" font-family=\"Times,serif\" font-size=\"14.00\" text-anchor=\"middle\" x=\"223.626\" y=\"-18.3\">dense_1: Dense</text>\n",
       "<polyline fill=\"none\" points=\"275.752,-.5 275.752,-44.5 \" stroke=\"#000000\"/>\n",
       "<text fill=\"#000000\" font-family=\"Times,serif\" font-size=\"14.00\" text-anchor=\"middle\" x=\"303.5864\" y=\"-29.3\">input:</text>\n",
       "<polyline fill=\"none\" points=\"275.752,-22.5 331.4209,-22.5 \" stroke=\"#000000\"/>\n",
       "<text fill=\"#000000\" font-family=\"Times,serif\" font-size=\"14.00\" text-anchor=\"middle\" x=\"303.5864\" y=\"-7.3\">output:</text>\n",
       "<polyline fill=\"none\" points=\"331.4209,-.5 331.4209,-44.5 \" stroke=\"#000000\"/>\n",
       "<text fill=\"#000000\" font-family=\"Times,serif\" font-size=\"14.00\" text-anchor=\"middle\" x=\"366.2451\" y=\"-29.3\">(None, 4)</text>\n",
       "<polyline fill=\"none\" points=\"331.4209,-22.5 401.0693,-22.5 \" stroke=\"#000000\"/>\n",
       "<text fill=\"#000000\" font-family=\"Times,serif\" font-size=\"14.00\" text-anchor=\"middle\" x=\"366.2451\" y=\"-7.3\">(None, 1)</text>\n",
       "</g>\n",
       "<!-- 5141453848&#45;&gt;5141453232 -->\n",
       "<g class=\"edge\" id=\"edge7\">\n",
       "<title>5141453848-&gt;5141453232</title>\n",
       "<path d=\"M286.2847,-81.3664C286.2847,-73.1516 286.2847,-63.6579 286.2847,-54.7252\" fill=\"none\" stroke=\"#000000\"/>\n",
       "<polygon fill=\"#000000\" points=\"289.7848,-54.6068 286.2847,-44.6068 282.7848,-54.6069 289.7848,-54.6068\" stroke=\"#000000\"/>\n",
       "</g>\n",
       "</g>\n",
       "</svg>"
      ],
      "text/plain": [
       "<IPython.core.display.SVG object>"
      ]
     },
     "execution_count": 25,
     "metadata": {},
     "output_type": "execute_result"
    }
   ],
   "source": [
    "#1-d свертка всегда сворачивает всю панель фаткоров в одно наблюдение.\n",
    "\n",
    "n_features = X_cnn_train.shape[2]\n",
    "\n",
    "visible = Input(shape=(n_steps, n_features),name='monthly')\n",
    "cnn = Conv1D(filters=25, kernel_size=3, \n",
    "#               padding='causal',\n",
    "#               dilation_rate=4,\n",
    "              strides=3,\n",
    "              activation='linear')(visible)\n",
    "#чтоб не смешивать ряды между собой заранее нужно отдельный инпут тогда для каждого \n",
    "cnn = Dropout(0.3)(cnn)\n",
    "\n",
    "inv_inp = Input(shape=(4, 1),name='quartality')\n",
    "\n",
    "z = concatenate([cnn,inv_inp],axis=-1)\n",
    "\n",
    "merge = Conv1D(filters=1, kernel_size=1, activation='linear')(z)\n",
    "merge = Flatten()(merge)\n",
    "output = Dense(1, activation='linear')(merge)\n",
    "model = Model(inputs=[visible,inv_inp], outputs=output)\n",
    "model.summary()\n",
    "\n",
    "\n",
    "SVG(model_to_dot(model,show_shapes=True).create(prog='dot', format='svg'))\n",
    "# from keras.utils import plot_model\n",
    "# plot_model(model, show_shapes=True, to_file='network2.png')"
   ]
  },
  {
   "cell_type": "code",
   "execution_count": 36,
   "metadata": {},
   "outputs": [
    {
     "name": "stdout",
     "output_type": "stream",
     "text": [
      "__________________________________________________________________________________________________\n",
      "Layer (type)                    Output Shape         Param #     Connected to                     \n",
      "==================================================================================================\n",
      "monthly (InputLayer)            (None, 12, 1)        0                                            \n",
      "__________________________________________________________________________________________________\n",
      "conv1d_3 (Conv1D)               (None, 11, 25)       75          monthly[0][0]                    \n",
      "__________________________________________________________________________________________________\n",
      "conv1d_4 (Conv1D)               (None, 4, 1)         51          conv1d_3[0][0]                   \n",
      "__________________________________________________________________________________________________\n",
      "quartality (InputLayer)         (None, 4, 1)         0                                            \n",
      "__________________________________________________________________________________________________\n",
      "concatenate_2 (Concatenate)     (None, 4, 2)         0           conv1d_4[0][0]                   \n",
      "                                                                 quartality[0][0]                 \n",
      "__________________________________________________________________________________________________\n",
      "conv1d_5 (Conv1D)               (None, 4, 1)         3           concatenate_2[0][0]              \n",
      "__________________________________________________________________________________________________\n",
      "flatten_2 (Flatten)             (None, 4)            0           conv1d_5[0][0]                   \n",
      "__________________________________________________________________________________________________\n",
      "dense_2 (Dense)                 (None, 1)            5           flatten_2[0][0]                  \n",
      "==================================================================================================\n",
      "Total params: 134\n",
      "Trainable params: 134\n",
      "Non-trainable params: 0\n",
      "__________________________________________________________________________________________________\n"
     ]
    },
    {
     "data": {
      "image/svg+xml": [
       "<svg height=\"539pt\" viewBox=\"0.00 0.00 583.70 539.00\" width=\"584pt\" xmlns=\"http://www.w3.org/2000/svg\" xmlns:xlink=\"http://www.w3.org/1999/xlink\">\n",
       "<g class=\"graph\" id=\"graph0\" transform=\"scale(1 1) rotate(0) translate(4 535)\">\n",
       "<title>G</title>\n",
       "<polygon fill=\"#ffffff\" points=\"-4,4 -4,-535 579.7026,-535 579.7026,4 -4,4\" stroke=\"transparent\"/>\n",
       "<!-- 4759454216 -->\n",
       "<g class=\"node\" id=\"node1\">\n",
       "<title>4759454216</title>\n",
       "<polygon fill=\"none\" points=\".1436,-486.5 .1436,-530.5 278.7129,-530.5 278.7129,-486.5 .1436,-486.5\" stroke=\"#000000\"/>\n",
       "<text fill=\"#000000\" font-family=\"Times,serif\" font-size=\"14.00\" text-anchor=\"middle\" x=\"66.2695\" y=\"-504.3\">monthly: InputLayer</text>\n",
       "<polyline fill=\"none\" points=\"132.3955,-486.5 132.3955,-530.5 \" stroke=\"#000000\"/>\n",
       "<text fill=\"#000000\" font-family=\"Times,serif\" font-size=\"14.00\" text-anchor=\"middle\" x=\"160.23\" y=\"-515.3\">input:</text>\n",
       "<polyline fill=\"none\" points=\"132.3955,-508.5 188.0645,-508.5 \" stroke=\"#000000\"/>\n",
       "<text fill=\"#000000\" font-family=\"Times,serif\" font-size=\"14.00\" text-anchor=\"middle\" x=\"160.23\" y=\"-493.3\">output:</text>\n",
       "<polyline fill=\"none\" points=\"188.0645,-486.5 188.0645,-530.5 \" stroke=\"#000000\"/>\n",
       "<text fill=\"#000000\" font-family=\"Times,serif\" font-size=\"14.00\" text-anchor=\"middle\" x=\"233.3887\" y=\"-515.3\">(None, 12, 1)</text>\n",
       "<polyline fill=\"none\" points=\"188.0645,-508.5 278.7129,-508.5 \" stroke=\"#000000\"/>\n",
       "<text fill=\"#000000\" font-family=\"Times,serif\" font-size=\"14.00\" text-anchor=\"middle\" x=\"233.3887\" y=\"-493.3\">(None, 12, 1)</text>\n",
       "</g>\n",
       "<!-- 4759457408 -->\n",
       "<g class=\"node\" id=\"node2\">\n",
       "<title>4759457408</title>\n",
       "<polygon fill=\"none\" points=\"0,-405.5 0,-449.5 278.8564,-449.5 278.8564,-405.5 0,-405.5\" stroke=\"#000000\"/>\n",
       "<text fill=\"#000000\" font-family=\"Times,serif\" font-size=\"14.00\" text-anchor=\"middle\" x=\"63.0259\" y=\"-423.3\">conv1d_3: Conv1D</text>\n",
       "<polyline fill=\"none\" points=\"126.0518,-405.5 126.0518,-449.5 \" stroke=\"#000000\"/>\n",
       "<text fill=\"#000000\" font-family=\"Times,serif\" font-size=\"14.00\" text-anchor=\"middle\" x=\"153.8862\" y=\"-434.3\">input:</text>\n",
       "<polyline fill=\"none\" points=\"126.0518,-427.5 181.7207,-427.5 \" stroke=\"#000000\"/>\n",
       "<text fill=\"#000000\" font-family=\"Times,serif\" font-size=\"14.00\" text-anchor=\"middle\" x=\"153.8862\" y=\"-412.3\">output:</text>\n",
       "<polyline fill=\"none\" points=\"181.7207,-405.5 181.7207,-449.5 \" stroke=\"#000000\"/>\n",
       "<text fill=\"#000000\" font-family=\"Times,serif\" font-size=\"14.00\" text-anchor=\"middle\" x=\"230.0449\" y=\"-434.3\">(None, 12, 1)</text>\n",
       "<polyline fill=\"none\" points=\"181.7207,-427.5 278.8564,-427.5 \" stroke=\"#000000\"/>\n",
       "<text fill=\"#000000\" font-family=\"Times,serif\" font-size=\"14.00\" text-anchor=\"middle\" x=\"230.2886\" y=\"-412.3\">(None, 11, 25)</text>\n",
       "</g>\n",
       "<!-- 4759454216&#45;&gt;4759457408 -->\n",
       "<g class=\"edge\" id=\"edge1\">\n",
       "<title>4759454216-&gt;4759457408</title>\n",
       "<path d=\"M139.4282,-486.3664C139.4282,-478.1516 139.4282,-468.6579 139.4282,-459.7252\" fill=\"none\" stroke=\"#000000\"/>\n",
       "<polygon fill=\"#000000\" points=\"142.9283,-459.6068 139.4282,-449.6068 135.9283,-459.6069 142.9283,-459.6068\" stroke=\"#000000\"/>\n",
       "</g>\n",
       "<!-- 4759457016 -->\n",
       "<g class=\"node\" id=\"node3\">\n",
       "<title>4759457016</title>\n",
       "<polygon fill=\"none\" points=\"0,-324.5 0,-368.5 278.8564,-368.5 278.8564,-324.5 0,-324.5\" stroke=\"#000000\"/>\n",
       "<text fill=\"#000000\" font-family=\"Times,serif\" font-size=\"14.00\" text-anchor=\"middle\" x=\"63.0259\" y=\"-342.3\">conv1d_4: Conv1D</text>\n",
       "<polyline fill=\"none\" points=\"126.0518,-324.5 126.0518,-368.5 \" stroke=\"#000000\"/>\n",
       "<text fill=\"#000000\" font-family=\"Times,serif\" font-size=\"14.00\" text-anchor=\"middle\" x=\"153.8862\" y=\"-353.3\">input:</text>\n",
       "<polyline fill=\"none\" points=\"126.0518,-346.5 181.7207,-346.5 \" stroke=\"#000000\"/>\n",
       "<text fill=\"#000000\" font-family=\"Times,serif\" font-size=\"14.00\" text-anchor=\"middle\" x=\"153.8862\" y=\"-331.3\">output:</text>\n",
       "<polyline fill=\"none\" points=\"181.7207,-324.5 181.7207,-368.5 \" stroke=\"#000000\"/>\n",
       "<text fill=\"#000000\" font-family=\"Times,serif\" font-size=\"14.00\" text-anchor=\"middle\" x=\"230.2886\" y=\"-353.3\">(None, 11, 25)</text>\n",
       "<polyline fill=\"none\" points=\"181.7207,-346.5 278.8564,-346.5 \" stroke=\"#000000\"/>\n",
       "<text fill=\"#000000\" font-family=\"Times,serif\" font-size=\"14.00\" text-anchor=\"middle\" x=\"230.0449\" y=\"-331.3\">(None, 4, 1)</text>\n",
       "</g>\n",
       "<!-- 4759457408&#45;&gt;4759457016 -->\n",
       "<g class=\"edge\" id=\"edge2\">\n",
       "<title>4759457408-&gt;4759457016</title>\n",
       "<path d=\"M139.4282,-405.3664C139.4282,-397.1516 139.4282,-387.6579 139.4282,-378.7252\" fill=\"none\" stroke=\"#000000\"/>\n",
       "<polygon fill=\"#000000\" points=\"142.9283,-378.6068 139.4282,-368.6068 135.9283,-378.6069 142.9283,-378.6068\" stroke=\"#000000\"/>\n",
       "</g>\n",
       "<!-- 4762690280 -->\n",
       "<g class=\"node\" id=\"node5\">\n",
       "<title>4762690280</title>\n",
       "<polygon fill=\"none\" points=\"89.4639,-243.5 89.4639,-287.5 485.3926,-287.5 485.3926,-243.5 89.4639,-243.5\" stroke=\"#000000\"/>\n",
       "<text fill=\"#000000\" font-family=\"Times,serif\" font-size=\"14.00\" text-anchor=\"middle\" x=\"175.7832\" y=\"-261.3\">concatenate_2: Concatenate</text>\n",
       "<polyline fill=\"none\" points=\"262.1025,-243.5 262.1025,-287.5 \" stroke=\"#000000\"/>\n",
       "<text fill=\"#000000\" font-family=\"Times,serif\" font-size=\"14.00\" text-anchor=\"middle\" x=\"289.937\" y=\"-272.3\">input:</text>\n",
       "<polyline fill=\"none\" points=\"262.1025,-265.5 317.7715,-265.5 \" stroke=\"#000000\"/>\n",
       "<text fill=\"#000000\" font-family=\"Times,serif\" font-size=\"14.00\" text-anchor=\"middle\" x=\"289.937\" y=\"-250.3\">output:</text>\n",
       "<polyline fill=\"none\" points=\"317.7715,-243.5 317.7715,-287.5 \" stroke=\"#000000\"/>\n",
       "<text fill=\"#000000\" font-family=\"Times,serif\" font-size=\"14.00\" text-anchor=\"middle\" x=\"401.582\" y=\"-272.3\">[(None, 4, 1), (None, 4, 1)]</text>\n",
       "<polyline fill=\"none\" points=\"317.7715,-265.5 485.3926,-265.5 \" stroke=\"#000000\"/>\n",
       "<text fill=\"#000000\" font-family=\"Times,serif\" font-size=\"14.00\" text-anchor=\"middle\" x=\"401.0957\" y=\"-250.3\">(None, 4, 2)</text>\n",
       "</g>\n",
       "<!-- 4759457016&#45;&gt;4762690280 -->\n",
       "<g class=\"edge\" id=\"edge3\">\n",
       "<title>4759457016-&gt;4762690280</title>\n",
       "<path d=\"M179.8699,-324.3664C197.8978,-314.4998 219.297,-302.7881 238.2421,-292.4194\" fill=\"none\" stroke=\"#000000\"/>\n",
       "<polygon fill=\"#000000\" points=\"239.9437,-295.4781 247.0355,-287.6068 236.5829,-289.3376 239.9437,-295.4781\" stroke=\"#000000\"/>\n",
       "</g>\n",
       "<!-- 4759457352 -->\n",
       "<g class=\"node\" id=\"node4\">\n",
       "<title>4759457352</title>\n",
       "<polygon fill=\"none\" points=\"297.1538,-324.5 297.1538,-368.5 575.7026,-368.5 575.7026,-324.5 297.1538,-324.5\" stroke=\"#000000\"/>\n",
       "<text fill=\"#000000\" font-family=\"Times,serif\" font-size=\"14.00\" text-anchor=\"middle\" x=\"366.7695\" y=\"-342.3\">quartality: InputLayer</text>\n",
       "<polyline fill=\"none\" points=\"436.3853,-324.5 436.3853,-368.5 \" stroke=\"#000000\"/>\n",
       "<text fill=\"#000000\" font-family=\"Times,serif\" font-size=\"14.00\" text-anchor=\"middle\" x=\"464.2197\" y=\"-353.3\">input:</text>\n",
       "<polyline fill=\"none\" points=\"436.3853,-346.5 492.0542,-346.5 \" stroke=\"#000000\"/>\n",
       "<text fill=\"#000000\" font-family=\"Times,serif\" font-size=\"14.00\" text-anchor=\"middle\" x=\"464.2197\" y=\"-331.3\">output:</text>\n",
       "<polyline fill=\"none\" points=\"492.0542,-324.5 492.0542,-368.5 \" stroke=\"#000000\"/>\n",
       "<text fill=\"#000000\" font-family=\"Times,serif\" font-size=\"14.00\" text-anchor=\"middle\" x=\"533.8784\" y=\"-353.3\">(None, 4, 1)</text>\n",
       "<polyline fill=\"none\" points=\"492.0542,-346.5 575.7026,-346.5 \" stroke=\"#000000\"/>\n",
       "<text fill=\"#000000\" font-family=\"Times,serif\" font-size=\"14.00\" text-anchor=\"middle\" x=\"533.8784\" y=\"-331.3\">(None, 4, 1)</text>\n",
       "</g>\n",
       "<!-- 4759457352&#45;&gt;4762690280 -->\n",
       "<g class=\"edge\" id=\"edge4\">\n",
       "<title>4759457352-&gt;4762690280</title>\n",
       "<path d=\"M395.7133,-324.3664C377.5636,-314.4998 356.0198,-302.7881 336.9466,-292.4194\" fill=\"none\" stroke=\"#000000\"/>\n",
       "<polygon fill=\"#000000\" points=\"338.5513,-289.308 328.0939,-287.6068 335.208,-295.458 338.5513,-289.308\" stroke=\"#000000\"/>\n",
       "</g>\n",
       "<!-- 4759454552 -->\n",
       "<g class=\"node\" id=\"node6\">\n",
       "<title>4759454552</title>\n",
       "<polygon fill=\"none\" points=\"154.7437,-162.5 154.7437,-206.5 420.1128,-206.5 420.1128,-162.5 154.7437,-162.5\" stroke=\"#000000\"/>\n",
       "<text fill=\"#000000\" font-family=\"Times,serif\" font-size=\"14.00\" text-anchor=\"middle\" x=\"217.7695\" y=\"-180.3\">conv1d_5: Conv1D</text>\n",
       "<polyline fill=\"none\" points=\"280.7954,-162.5 280.7954,-206.5 \" stroke=\"#000000\"/>\n",
       "<text fill=\"#000000\" font-family=\"Times,serif\" font-size=\"14.00\" text-anchor=\"middle\" x=\"308.6299\" y=\"-191.3\">input:</text>\n",
       "<polyline fill=\"none\" points=\"280.7954,-184.5 336.4644,-184.5 \" stroke=\"#000000\"/>\n",
       "<text fill=\"#000000\" font-family=\"Times,serif\" font-size=\"14.00\" text-anchor=\"middle\" x=\"308.6299\" y=\"-169.3\">output:</text>\n",
       "<polyline fill=\"none\" points=\"336.4644,-162.5 336.4644,-206.5 \" stroke=\"#000000\"/>\n",
       "<text fill=\"#000000\" font-family=\"Times,serif\" font-size=\"14.00\" text-anchor=\"middle\" x=\"378.2886\" y=\"-191.3\">(None, 4, 2)</text>\n",
       "<polyline fill=\"none\" points=\"336.4644,-184.5 420.1128,-184.5 \" stroke=\"#000000\"/>\n",
       "<text fill=\"#000000\" font-family=\"Times,serif\" font-size=\"14.00\" text-anchor=\"middle\" x=\"378.2886\" y=\"-169.3\">(None, 4, 1)</text>\n",
       "</g>\n",
       "<!-- 4762690280&#45;&gt;4759454552 -->\n",
       "<g class=\"edge\" id=\"edge5\">\n",
       "<title>4762690280-&gt;4759454552</title>\n",
       "<path d=\"M287.4282,-243.3664C287.4282,-235.1516 287.4282,-225.6579 287.4282,-216.7252\" fill=\"none\" stroke=\"#000000\"/>\n",
       "<polygon fill=\"#000000\" points=\"290.9283,-216.6068 287.4282,-206.6068 283.9283,-216.6069 290.9283,-216.6068\" stroke=\"#000000\"/>\n",
       "</g>\n",
       "<!-- 4762895696 -->\n",
       "<g class=\"node\" id=\"node7\">\n",
       "<title>4762895696</title>\n",
       "<polygon fill=\"none\" points=\"162.1367,-81.5 162.1367,-125.5 412.7197,-125.5 412.7197,-81.5 162.1367,-81.5\" stroke=\"#000000\"/>\n",
       "<text fill=\"#000000\" font-family=\"Times,serif\" font-size=\"14.00\" text-anchor=\"middle\" x=\"217.7695\" y=\"-99.3\">flatten_2: Flatten</text>\n",
       "<polyline fill=\"none\" points=\"273.4023,-81.5 273.4023,-125.5 \" stroke=\"#000000\"/>\n",
       "<text fill=\"#000000\" font-family=\"Times,serif\" font-size=\"14.00\" text-anchor=\"middle\" x=\"301.2368\" y=\"-110.3\">input:</text>\n",
       "<polyline fill=\"none\" points=\"273.4023,-103.5 329.0713,-103.5 \" stroke=\"#000000\"/>\n",
       "<text fill=\"#000000\" font-family=\"Times,serif\" font-size=\"14.00\" text-anchor=\"middle\" x=\"301.2368\" y=\"-88.3\">output:</text>\n",
       "<polyline fill=\"none\" points=\"329.0713,-81.5 329.0713,-125.5 \" stroke=\"#000000\"/>\n",
       "<text fill=\"#000000\" font-family=\"Times,serif\" font-size=\"14.00\" text-anchor=\"middle\" x=\"370.8955\" y=\"-110.3\">(None, 4, 1)</text>\n",
       "<polyline fill=\"none\" points=\"329.0713,-103.5 412.7197,-103.5 \" stroke=\"#000000\"/>\n",
       "<text fill=\"#000000\" font-family=\"Times,serif\" font-size=\"14.00\" text-anchor=\"middle\" x=\"370.8955\" y=\"-88.3\">(None, 4)</text>\n",
       "</g>\n",
       "<!-- 4759454552&#45;&gt;4762895696 -->\n",
       "<g class=\"edge\" id=\"edge6\">\n",
       "<title>4759454552-&gt;4762895696</title>\n",
       "<path d=\"M287.4282,-162.3664C287.4282,-154.1516 287.4282,-144.6579 287.4282,-135.7252\" fill=\"none\" stroke=\"#000000\"/>\n",
       "<polygon fill=\"#000000\" points=\"290.9283,-135.6068 287.4282,-125.6068 283.9283,-135.6069 290.9283,-135.6068\" stroke=\"#000000\"/>\n",
       "</g>\n",
       "<!-- 4762895808 -->\n",
       "<g class=\"node\" id=\"node8\">\n",
       "<title>4762895808</title>\n",
       "<polygon fill=\"none\" points=\"172.6436,-.5 172.6436,-44.5 402.2129,-44.5 402.2129,-.5 172.6436,-.5\" stroke=\"#000000\"/>\n",
       "<text fill=\"#000000\" font-family=\"Times,serif\" font-size=\"14.00\" text-anchor=\"middle\" x=\"224.7695\" y=\"-18.3\">dense_2: Dense</text>\n",
       "<polyline fill=\"none\" points=\"276.8955,-.5 276.8955,-44.5 \" stroke=\"#000000\"/>\n",
       "<text fill=\"#000000\" font-family=\"Times,serif\" font-size=\"14.00\" text-anchor=\"middle\" x=\"304.73\" y=\"-29.3\">input:</text>\n",
       "<polyline fill=\"none\" points=\"276.8955,-22.5 332.5645,-22.5 \" stroke=\"#000000\"/>\n",
       "<text fill=\"#000000\" font-family=\"Times,serif\" font-size=\"14.00\" text-anchor=\"middle\" x=\"304.73\" y=\"-7.3\">output:</text>\n",
       "<polyline fill=\"none\" points=\"332.5645,-.5 332.5645,-44.5 \" stroke=\"#000000\"/>\n",
       "<text fill=\"#000000\" font-family=\"Times,serif\" font-size=\"14.00\" text-anchor=\"middle\" x=\"367.3887\" y=\"-29.3\">(None, 4)</text>\n",
       "<polyline fill=\"none\" points=\"332.5645,-22.5 402.2129,-22.5 \" stroke=\"#000000\"/>\n",
       "<text fill=\"#000000\" font-family=\"Times,serif\" font-size=\"14.00\" text-anchor=\"middle\" x=\"367.3887\" y=\"-7.3\">(None, 1)</text>\n",
       "</g>\n",
       "<!-- 4762895696&#45;&gt;4762895808 -->\n",
       "<g class=\"edge\" id=\"edge7\">\n",
       "<title>4762895696-&gt;4762895808</title>\n",
       "<path d=\"M287.4282,-81.3664C287.4282,-73.1516 287.4282,-63.6579 287.4282,-54.7252\" fill=\"none\" stroke=\"#000000\"/>\n",
       "<polygon fill=\"#000000\" points=\"290.9283,-54.6068 287.4282,-44.6068 283.9283,-54.6069 290.9283,-54.6068\" stroke=\"#000000\"/>\n",
       "</g>\n",
       "</g>\n",
       "</svg>"
      ],
      "text/plain": [
       "<IPython.core.display.SVG object>"
      ]
     },
     "execution_count": 36,
     "metadata": {},
     "output_type": "execute_result"
    }
   ],
   "source": [
    "#1-d свертка всегда сворачивает всю панель фаткоров в одно наблюдение.\n",
    "\n",
    "n_features = X_cnn_train.shape[2]\n",
    "\n",
    "visible = Input(shape=(n_steps, n_features),name='monthly')\n",
    "cnn = Conv1D(filters=25, kernel_size=2, \n",
    "              activation='linear')(visible)\n",
    "\n",
    "# cnn = Dropout(0.3)(cnn)\n",
    "\n",
    "cnn = Conv1D(filters=1, kernel_size=2, \n",
    "              strides=3,\n",
    "              activation='linear')(cnn)\n",
    "# \n",
    "# cnn = Dropout(0.3)(cnn)\n",
    "#чтоб не смешивать ряды между собой заранее нужно отдельный инпут тогда для каждого \n",
    "\n",
    "inv_inp = Input(shape=(4, 1),name='quartality')\n",
    "\n",
    "z = concatenate([cnn,inv_inp],axis=-1)\n",
    "\n",
    "merge = Conv1D(filters=1, kernel_size=1, activation='linear')(z)\n",
    "merge = Flatten()(merge)\n",
    "output = Dense(1, activation='linear')(merge)\n",
    "model = Model(inputs=[visible,inv_inp], outputs=output)\n",
    "model.summary()\n",
    "\n",
    "SVG(model_to_dot(model,show_shapes=True).create(prog='dot', format='svg'))\n"
   ]
  },
  {
   "cell_type": "code",
   "execution_count": 40,
   "metadata": {},
   "outputs": [],
   "source": [
    "n=650\n",
    "X_cnn_train=X_m3[1:][:n]\n",
    "X_cnn_test=X_m3[1:][n:]\n",
    "\n",
    "# invest_train=X_gdp[:n]\n",
    "# invest_test=X_gdp[n:]\n",
    "\n",
    "y_cnn_train=y_m3[1:][:n]\n",
    "Y_cnn_test=y_m3[1:][n:]\n",
    "\n",
    "n_steps=12"
   ]
  },
  {
   "cell_type": "code",
   "execution_count": 46,
   "metadata": {},
   "outputs": [
    {
     "name": "stdout",
     "output_type": "stream",
     "text": [
      "_________________________________________________________________\n",
      "Layer (type)                 Output Shape              Param #   \n",
      "=================================================================\n",
      "monthly (InputLayer)         (None, 12, 1)             0         \n",
      "_________________________________________________________________\n",
      "conv1d_13 (Conv1D)           (None, 11, 25)            75        \n",
      "_________________________________________________________________\n",
      "conv1d_14 (Conv1D)           (None, 4, 1)              51        \n",
      "_________________________________________________________________\n",
      "flatten_4 (Flatten)          (None, 4)                 0         \n",
      "_________________________________________________________________\n",
      "dense_5 (Dense)              (None, 1)                 5         \n",
      "=================================================================\n",
      "Total params: 131\n",
      "Trainable params: 131\n",
      "Non-trainable params: 0\n",
      "_________________________________________________________________\n"
     ]
    },
    {
     "data": {
      "image/svg+xml": [
       "<svg height=\"377pt\" viewBox=\"0.00 0.00 293.86 377.00\" width=\"294pt\" xmlns=\"http://www.w3.org/2000/svg\" xmlns:xlink=\"http://www.w3.org/1999/xlink\">\n",
       "<g class=\"graph\" id=\"graph0\" transform=\"scale(1 1) rotate(0) translate(4 373)\">\n",
       "<title>G</title>\n",
       "<polygon fill=\"#ffffff\" points=\"-4,4 -4,-373 289.8564,-373 289.8564,4 -4,4\" stroke=\"transparent\"/>\n",
       "<!-- 5199336056 -->\n",
       "<g class=\"node\" id=\"node1\">\n",
       "<title>5199336056</title>\n",
       "<polygon fill=\"none\" points=\"3.6436,-324.5 3.6436,-368.5 282.2129,-368.5 282.2129,-324.5 3.6436,-324.5\" stroke=\"#000000\"/>\n",
       "<text fill=\"#000000\" font-family=\"Times,serif\" font-size=\"14.00\" text-anchor=\"middle\" x=\"69.7695\" y=\"-342.3\">monthly: InputLayer</text>\n",
       "<polyline fill=\"none\" points=\"135.8955,-324.5 135.8955,-368.5 \" stroke=\"#000000\"/>\n",
       "<text fill=\"#000000\" font-family=\"Times,serif\" font-size=\"14.00\" text-anchor=\"middle\" x=\"163.73\" y=\"-353.3\">input:</text>\n",
       "<polyline fill=\"none\" points=\"135.8955,-346.5 191.5645,-346.5 \" stroke=\"#000000\"/>\n",
       "<text fill=\"#000000\" font-family=\"Times,serif\" font-size=\"14.00\" text-anchor=\"middle\" x=\"163.73\" y=\"-331.3\">output:</text>\n",
       "<polyline fill=\"none\" points=\"191.5645,-324.5 191.5645,-368.5 \" stroke=\"#000000\"/>\n",
       "<text fill=\"#000000\" font-family=\"Times,serif\" font-size=\"14.00\" text-anchor=\"middle\" x=\"236.8887\" y=\"-353.3\">(None, 12, 1)</text>\n",
       "<polyline fill=\"none\" points=\"191.5645,-346.5 282.2129,-346.5 \" stroke=\"#000000\"/>\n",
       "<text fill=\"#000000\" font-family=\"Times,serif\" font-size=\"14.00\" text-anchor=\"middle\" x=\"236.8887\" y=\"-331.3\">(None, 12, 1)</text>\n",
       "</g>\n",
       "<!-- 5199336168 -->\n",
       "<g class=\"node\" id=\"node2\">\n",
       "<title>5199336168</title>\n",
       "<polygon fill=\"none\" points=\"0,-243.5 0,-287.5 285.8564,-287.5 285.8564,-243.5 0,-243.5\" stroke=\"#000000\"/>\n",
       "<text fill=\"#000000\" font-family=\"Times,serif\" font-size=\"14.00\" text-anchor=\"middle\" x=\"66.5259\" y=\"-261.3\">conv1d_13: Conv1D</text>\n",
       "<polyline fill=\"none\" points=\"133.0518,-243.5 133.0518,-287.5 \" stroke=\"#000000\"/>\n",
       "<text fill=\"#000000\" font-family=\"Times,serif\" font-size=\"14.00\" text-anchor=\"middle\" x=\"160.8862\" y=\"-272.3\">input:</text>\n",
       "<polyline fill=\"none\" points=\"133.0518,-265.5 188.7207,-265.5 \" stroke=\"#000000\"/>\n",
       "<text fill=\"#000000\" font-family=\"Times,serif\" font-size=\"14.00\" text-anchor=\"middle\" x=\"160.8862\" y=\"-250.3\">output:</text>\n",
       "<polyline fill=\"none\" points=\"188.7207,-243.5 188.7207,-287.5 \" stroke=\"#000000\"/>\n",
       "<text fill=\"#000000\" font-family=\"Times,serif\" font-size=\"14.00\" text-anchor=\"middle\" x=\"237.0449\" y=\"-272.3\">(None, 12, 1)</text>\n",
       "<polyline fill=\"none\" points=\"188.7207,-265.5 285.8564,-265.5 \" stroke=\"#000000\"/>\n",
       "<text fill=\"#000000\" font-family=\"Times,serif\" font-size=\"14.00\" text-anchor=\"middle\" x=\"237.2886\" y=\"-250.3\">(None, 11, 25)</text>\n",
       "</g>\n",
       "<!-- 5199336056&#45;&gt;5199336168 -->\n",
       "<g class=\"edge\" id=\"edge1\">\n",
       "<title>5199336056-&gt;5199336168</title>\n",
       "<path d=\"M142.9282,-324.3664C142.9282,-316.1516 142.9282,-306.6579 142.9282,-297.7252\" fill=\"none\" stroke=\"#000000\"/>\n",
       "<polygon fill=\"#000000\" points=\"146.4283,-297.6068 142.9282,-287.6068 139.4283,-297.6069 146.4283,-297.6068\" stroke=\"#000000\"/>\n",
       "</g>\n",
       "<!-- 5199336392 -->\n",
       "<g class=\"node\" id=\"node3\">\n",
       "<title>5199336392</title>\n",
       "<polygon fill=\"none\" points=\"0,-162.5 0,-206.5 285.8564,-206.5 285.8564,-162.5 0,-162.5\" stroke=\"#000000\"/>\n",
       "<text fill=\"#000000\" font-family=\"Times,serif\" font-size=\"14.00\" text-anchor=\"middle\" x=\"66.5259\" y=\"-180.3\">conv1d_14: Conv1D</text>\n",
       "<polyline fill=\"none\" points=\"133.0518,-162.5 133.0518,-206.5 \" stroke=\"#000000\"/>\n",
       "<text fill=\"#000000\" font-family=\"Times,serif\" font-size=\"14.00\" text-anchor=\"middle\" x=\"160.8862\" y=\"-191.3\">input:</text>\n",
       "<polyline fill=\"none\" points=\"133.0518,-184.5 188.7207,-184.5 \" stroke=\"#000000\"/>\n",
       "<text fill=\"#000000\" font-family=\"Times,serif\" font-size=\"14.00\" text-anchor=\"middle\" x=\"160.8862\" y=\"-169.3\">output:</text>\n",
       "<polyline fill=\"none\" points=\"188.7207,-162.5 188.7207,-206.5 \" stroke=\"#000000\"/>\n",
       "<text fill=\"#000000\" font-family=\"Times,serif\" font-size=\"14.00\" text-anchor=\"middle\" x=\"237.2886\" y=\"-191.3\">(None, 11, 25)</text>\n",
       "<polyline fill=\"none\" points=\"188.7207,-184.5 285.8564,-184.5 \" stroke=\"#000000\"/>\n",
       "<text fill=\"#000000\" font-family=\"Times,serif\" font-size=\"14.00\" text-anchor=\"middle\" x=\"237.0449\" y=\"-169.3\">(None, 4, 1)</text>\n",
       "</g>\n",
       "<!-- 5199336168&#45;&gt;5199336392 -->\n",
       "<g class=\"edge\" id=\"edge2\">\n",
       "<title>5199336168-&gt;5199336392</title>\n",
       "<path d=\"M142.9282,-243.3664C142.9282,-235.1516 142.9282,-225.6579 142.9282,-216.7252\" fill=\"none\" stroke=\"#000000\"/>\n",
       "<polygon fill=\"#000000\" points=\"146.4283,-216.6068 142.9282,-206.6068 139.4283,-216.6069 146.4283,-216.6068\" stroke=\"#000000\"/>\n",
       "</g>\n",
       "<!-- 5199336840 -->\n",
       "<g class=\"node\" id=\"node4\">\n",
       "<title>5199336840</title>\n",
       "<polygon fill=\"none\" points=\"17.6367,-81.5 17.6367,-125.5 268.2197,-125.5 268.2197,-81.5 17.6367,-81.5\" stroke=\"#000000\"/>\n",
       "<text fill=\"#000000\" font-family=\"Times,serif\" font-size=\"14.00\" text-anchor=\"middle\" x=\"73.2695\" y=\"-99.3\">flatten_4: Flatten</text>\n",
       "<polyline fill=\"none\" points=\"128.9023,-81.5 128.9023,-125.5 \" stroke=\"#000000\"/>\n",
       "<text fill=\"#000000\" font-family=\"Times,serif\" font-size=\"14.00\" text-anchor=\"middle\" x=\"156.7368\" y=\"-110.3\">input:</text>\n",
       "<polyline fill=\"none\" points=\"128.9023,-103.5 184.5713,-103.5 \" stroke=\"#000000\"/>\n",
       "<text fill=\"#000000\" font-family=\"Times,serif\" font-size=\"14.00\" text-anchor=\"middle\" x=\"156.7368\" y=\"-88.3\">output:</text>\n",
       "<polyline fill=\"none\" points=\"184.5713,-81.5 184.5713,-125.5 \" stroke=\"#000000\"/>\n",
       "<text fill=\"#000000\" font-family=\"Times,serif\" font-size=\"14.00\" text-anchor=\"middle\" x=\"226.3955\" y=\"-110.3\">(None, 4, 1)</text>\n",
       "<polyline fill=\"none\" points=\"184.5713,-103.5 268.2197,-103.5 \" stroke=\"#000000\"/>\n",
       "<text fill=\"#000000\" font-family=\"Times,serif\" font-size=\"14.00\" text-anchor=\"middle\" x=\"226.3955\" y=\"-88.3\">(None, 4)</text>\n",
       "</g>\n",
       "<!-- 5199336392&#45;&gt;5199336840 -->\n",
       "<g class=\"edge\" id=\"edge3\">\n",
       "<title>5199336392-&gt;5199336840</title>\n",
       "<path d=\"M142.9282,-162.3664C142.9282,-154.1516 142.9282,-144.6579 142.9282,-135.7252\" fill=\"none\" stroke=\"#000000\"/>\n",
       "<polygon fill=\"#000000\" points=\"146.4283,-135.6068 142.9282,-125.6068 139.4283,-135.6069 146.4283,-135.6068\" stroke=\"#000000\"/>\n",
       "</g>\n",
       "<!-- 5199338464 -->\n",
       "<g class=\"node\" id=\"node5\">\n",
       "<title>5199338464</title>\n",
       "<polygon fill=\"none\" points=\"28.1436,-.5 28.1436,-44.5 257.7129,-44.5 257.7129,-.5 28.1436,-.5\" stroke=\"#000000\"/>\n",
       "<text fill=\"#000000\" font-family=\"Times,serif\" font-size=\"14.00\" text-anchor=\"middle\" x=\"80.2695\" y=\"-18.3\">dense_5: Dense</text>\n",
       "<polyline fill=\"none\" points=\"132.3955,-.5 132.3955,-44.5 \" stroke=\"#000000\"/>\n",
       "<text fill=\"#000000\" font-family=\"Times,serif\" font-size=\"14.00\" text-anchor=\"middle\" x=\"160.23\" y=\"-29.3\">input:</text>\n",
       "<polyline fill=\"none\" points=\"132.3955,-22.5 188.0645,-22.5 \" stroke=\"#000000\"/>\n",
       "<text fill=\"#000000\" font-family=\"Times,serif\" font-size=\"14.00\" text-anchor=\"middle\" x=\"160.23\" y=\"-7.3\">output:</text>\n",
       "<polyline fill=\"none\" points=\"188.0645,-.5 188.0645,-44.5 \" stroke=\"#000000\"/>\n",
       "<text fill=\"#000000\" font-family=\"Times,serif\" font-size=\"14.00\" text-anchor=\"middle\" x=\"222.8887\" y=\"-29.3\">(None, 4)</text>\n",
       "<polyline fill=\"none\" points=\"188.0645,-22.5 257.7129,-22.5 \" stroke=\"#000000\"/>\n",
       "<text fill=\"#000000\" font-family=\"Times,serif\" font-size=\"14.00\" text-anchor=\"middle\" x=\"222.8887\" y=\"-7.3\">(None, 1)</text>\n",
       "</g>\n",
       "<!-- 5199336840&#45;&gt;5199338464 -->\n",
       "<g class=\"edge\" id=\"edge4\">\n",
       "<title>5199336840-&gt;5199338464</title>\n",
       "<path d=\"M142.9282,-81.3664C142.9282,-73.1516 142.9282,-63.6579 142.9282,-54.7252\" fill=\"none\" stroke=\"#000000\"/>\n",
       "<polygon fill=\"#000000\" points=\"146.4283,-54.6068 142.9282,-44.6068 139.4283,-54.6069 146.4283,-54.6068\" stroke=\"#000000\"/>\n",
       "</g>\n",
       "</g>\n",
       "</svg>"
      ],
      "text/plain": [
       "<IPython.core.display.SVG object>"
      ]
     },
     "execution_count": 46,
     "metadata": {},
     "output_type": "execute_result"
    }
   ],
   "source": [
    "#1-d свертка всегда сворачивает всю панель фаткоров в одно наблюдение.\n",
    "\n",
    "n_features = X_cnn_train.shape[2]\n",
    "\n",
    "visible = Input(shape=(n_steps, n_features),name='monthly')\n",
    "cnn = Conv1D(filters=25, kernel_size=2, \n",
    "              activation='linear')(visible)\n",
    "\n",
    "# cnn = Dropout(0.3)(cnn)\n",
    "\n",
    "cnn = Conv1D(filters=1, kernel_size=2, \n",
    "              strides=3,\n",
    "              activation='linear')(cnn)\n",
    "# \n",
    "# cnn = Dropout(0.3)(cnn)\n",
    "#чтоб не смешивать ряды между собой заранее нужно отдельный инпут тогда для каждого \n",
    "\n",
    "# inv_inp = Input(shape=(4, 1),name='quartality')\n",
    "\n",
    "# z = concatenate([cnn,inv_inp],axis=-1)\n",
    "\n",
    "# merge = Conv1D(filters=1, kernel_size=1, activation='linear')(cnn)\n",
    "merge = Flatten()(cnn)\n",
    "output = Dense(1, activation='linear')(merge)\n",
    "model = Model(inputs=[visible], outputs=output)\n",
    "model.summary()\n",
    "\n",
    "SVG(model_to_dot(model,show_shapes=True).create(prog='dot', format='svg'))"
   ]
  },
  {
   "cell_type": "code",
   "execution_count": 47,
   "metadata": {},
   "outputs": [],
   "source": [
    "# opt = Nadam(lr=0.01)\n",
    "model.compile(optimizer= Adam(), \n",
    "              loss='mean_squared_error')\n",
    "\n",
    "history = model.fit(X_cnn_train, y_cnn_train, \n",
    "          epochs = 300, \n",
    "          batch_size = 10000, \n",
    "          verbose=0, \n",
    "          validation_data=(X_cnn_test, Y_cnn_test),\n",
    "          shuffle=False)"
   ]
  },
  {
   "cell_type": "code",
   "execution_count": 48,
   "metadata": {},
   "outputs": [
    {
     "name": "stdout",
     "output_type": "stream",
     "text": [
      "Последняя ошибка на валидации: 0.139524906873703\n"
     ]
    },
    {
     "data": {
      "image/png": "[encoded data removed]",
      "text/plain": [
       "<Figure size 432x288 with 1 Axes>"
      ]
     },
     "metadata": {
      "needs_background": "light"
     },
     "output_type": "display_data"
    }
   ],
   "source": [
    "import matplotlib.pyplot as plt\n",
    "plt.plot(history.history['loss'])\n",
    "plt.plot(history.history['val_loss'])\n",
    "\n",
    "plt.xlabel('Epoch')\n",
    "plt.ylabel('mean_squared_error')\n",
    "plt.title('Loss Over Time')\n",
    "plt.legend(['Train','Valid'])\n",
    "\n",
    "print('Последняя ошибка на валидации: {}'.format(history.history['val_loss'][-1]))"
   ]
  },
  {
   "cell_type": "code",
   "execution_count": 50,
   "metadata": {},
   "outputs": [
    {
     "data": {
      "text/plain": [
       "[<matplotlib.lines.Line2D at 0x1394554e0>]"
      ]
     },
     "execution_count": 50,
     "metadata": {},
     "output_type": "execute_result"
    },
    {
     "data": {
      "image/png": "[encoded data removed]",
      "text/plain": [
       "<Figure size 432x288 with 1 Axes>"
      ]
     },
     "metadata": {
      "needs_background": "light"
     },
     "output_type": "display_data"
    }
   ],
   "source": [
    "plt.plot(model.predict([X_cnn_test]))\n",
    "plt.plot(Y_cnn_test)"
   ]
  },
  {
   "cell_type": "code",
   "execution_count": 38,
   "metadata": {},
   "outputs": [
    {
     "name": "stdout",
     "output_type": "stream",
     "text": [
      "Последняя ошибка на валидации: 0.017641250044107437\n"
     ]
    },
    {
     "data": {
      "image/png": "[encoded data removed]",
      "text/plain": [
       "<Figure size 432x288 with 1 Axes>"
      ]
     },
     "metadata": {
      "needs_background": "light"
     },
     "output_type": "display_data"
    }
   ],
   "source": [
    "import matplotlib.pyplot as plt\n",
    "plt.plot(history.history['loss'])\n",
    "plt.plot(history.history['val_loss'])\n",
    "\n",
    "plt.xlabel('Epoch')\n",
    "plt.ylabel('mean_squared_error')\n",
    "plt.title('Loss Over Time')\n",
    "plt.legend(['Train','Valid'])\n",
    "\n",
    "print('Последняя ошибка на валидации: {}'.format(history.history['val_loss'][-1]))"
   ]
  },
  {
   "cell_type": "code",
   "execution_count": 39,
   "metadata": {},
   "outputs": [
    {
     "data": {
      "text/plain": [
       "[<matplotlib.lines.Line2D at 0x139455438>]"
      ]
     },
     "execution_count": 39,
     "metadata": {},
     "output_type": "execute_result"
    },
    {
     "data": {
      "image/png": "[encoded data removed]",
      "text/plain": [
       "<Figure size 432x288 with 1 Axes>"
      ]
     },
     "metadata": {
      "needs_background": "light"
     },
     "output_type": "display_data"
    }
   ],
   "source": [
    "plt.plot(model.predict([X_cnn_test,invest_test]))\n",
    "plt.plot(Y_cnn_test)"
   ]
  },
  {
   "cell_type": "code",
   "execution_count": null,
   "metadata": {},
   "outputs": [],
   "source": []
  },
  {
   "cell_type": "markdown",
   "metadata": {},
   "source": [
    "### сохраненная"
   ]
  },
  {
   "cell_type": "code",
   "execution_count": 436,
   "metadata": {},
   "outputs": [],
   "source": [
    "model_json=model.to_json()\n",
    "json_file=open('best_full_model.json','w')\n",
    "json_file.write(model_json)\n",
    "json_file.close()\n",
    "model.save_weights(\"best_full_model.h5\")"
   ]
  },
  {
   "cell_type": "code",
   "execution_count": 437,
   "metadata": {},
   "outputs": [
    {
     "name": "stdout",
     "output_type": "stream",
     "text": [
      "Загружаю сеть из файлов\n",
      "Загрузка сети завершена\n"
     ]
    }
   ],
   "source": [
    "from keras.models import model_from_json\n",
    "print(\"Загружаю сеть из файлов\")\n",
    "# Загружаем данные об архитектуре сети\n",
    "json_file = open(\"best_full_model.json\", \"r\")\n",
    "loaded_model_json = json_file.read()\n",
    "json_file.close()\n",
    "# Создаем модель\n",
    "loaded_model = model_from_json(loaded_model_json)\n",
    "# Загружаем сохраненные веса в модель\n",
    "loaded_model.load_weights(\"best_full_model.h5\")\n",
    "print(\"Загрузка сети завершена\")"
   ]
  },
  {
   "cell_type": "code",
   "execution_count": 438,
   "metadata": {},
   "outputs": [
    {
     "data": {
      "text/plain": [
       "[<matplotlib.lines.Line2D at 0x1301cc898>]"
      ]
     },
     "execution_count": 438,
     "metadata": {},
     "output_type": "execute_result"
    },
    {
     "data": {
      "image/png": "[encoded data removed]",
      "text/plain": [
       "<Figure size 432x288 with 1 Axes>"
      ]
     },
     "metadata": {
      "needs_background": "light"
     },
     "output_type": "display_data"
    }
   ],
   "source": [
    "plt.plot(loaded_model.predict([X_cnn_test,invest_test]))\n",
    "plt.plot(Y_cnn_test)"
   ]
  },
  {
   "cell_type": "code",
   "execution_count": null,
   "metadata": {},
   "outputs": [],
   "source": []
  }
 ],
 "metadata": {
  "kernelspec": {
   "display_name": "Python 3",
   "language": "python",
   "name": "python3"
  },
  "language_info": {
   "codemirror_mode": {
    "name": "ipython",
    "version": 3
   },
   "file_extension": ".py",
   "mimetype": "text/x-python",
   "name": "python",
   "nbconvert_exporter": "python",
   "pygments_lexer": "ipython3",
   "version": "3.7.0"
  }
 },
 "nbformat": 4,
 "nbformat_minor": 2
}
